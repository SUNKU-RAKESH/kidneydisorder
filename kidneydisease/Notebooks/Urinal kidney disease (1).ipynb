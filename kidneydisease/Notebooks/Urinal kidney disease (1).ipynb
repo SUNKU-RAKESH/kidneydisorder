{
 "cells": [
  {
   "cell_type": "code",
   "execution_count": 1,
   "metadata": {},
   "outputs": [],
   "source": [
    "import numpy as np\n",
    "import pandas as pd\n",
    "import matplotlib.pyplot as plt\n",
    "import seaborn as sns\n",
    "from sklearn.model_selection import train_test_split\n",
    "from sklearn.metrics import confusion_matrix\n",
    "from sklearn.preprocessing import StandardScaler\n",
    "from sklearn.linear_model import LogisticRegression\n",
    "from keras.models import Sequential\n",
    "from keras.layers import Dense, Dropout"
   ]
  },
  {
   "cell_type": "code",
   "execution_count": 2,
   "metadata": {},
   "outputs": [],
   "source": [
    "dataset = pd.read_csv('kindey stone urine analysis (2).csv')"
   ]
  },
  {
   "cell_type": "code",
   "execution_count": 3,
   "metadata": {},
   "outputs": [
    {
     "data": {
      "text/html": [
       "<div>\n",
       "<style scoped>\n",
       "    .dataframe tbody tr th:only-of-type {\n",
       "        vertical-align: middle;\n",
       "    }\n",
       "\n",
       "    .dataframe tbody tr th {\n",
       "        vertical-align: top;\n",
       "    }\n",
       "\n",
       "    .dataframe thead th {\n",
       "        text-align: right;\n",
       "    }\n",
       "</style>\n",
       "<table border=\"1\" class=\"dataframe\">\n",
       "  <thead>\n",
       "    <tr style=\"text-align: right;\">\n",
       "      <th></th>\n",
       "      <th>gravity</th>\n",
       "      <th>ph</th>\n",
       "      <th>osmo</th>\n",
       "      <th>cond</th>\n",
       "      <th>urea</th>\n",
       "      <th>calc</th>\n",
       "      <th>target</th>\n",
       "    </tr>\n",
       "  </thead>\n",
       "  <tbody>\n",
       "    <tr>\n",
       "      <th>0</th>\n",
       "      <td>1.021</td>\n",
       "      <td>4.91</td>\n",
       "      <td>725</td>\n",
       "      <td>14.0</td>\n",
       "      <td>443</td>\n",
       "      <td>2.45</td>\n",
       "      <td>0</td>\n",
       "    </tr>\n",
       "    <tr>\n",
       "      <th>1</th>\n",
       "      <td>1.017</td>\n",
       "      <td>5.74</td>\n",
       "      <td>577</td>\n",
       "      <td>20.0</td>\n",
       "      <td>296</td>\n",
       "      <td>4.49</td>\n",
       "      <td>0</td>\n",
       "    </tr>\n",
       "    <tr>\n",
       "      <th>2</th>\n",
       "      <td>1.008</td>\n",
       "      <td>7.20</td>\n",
       "      <td>321</td>\n",
       "      <td>14.9</td>\n",
       "      <td>101</td>\n",
       "      <td>2.36</td>\n",
       "      <td>0</td>\n",
       "    </tr>\n",
       "    <tr>\n",
       "      <th>3</th>\n",
       "      <td>1.011</td>\n",
       "      <td>5.51</td>\n",
       "      <td>408</td>\n",
       "      <td>12.6</td>\n",
       "      <td>224</td>\n",
       "      <td>2.15</td>\n",
       "      <td>0</td>\n",
       "    </tr>\n",
       "    <tr>\n",
       "      <th>4</th>\n",
       "      <td>1.005</td>\n",
       "      <td>6.52</td>\n",
       "      <td>187</td>\n",
       "      <td>7.5</td>\n",
       "      <td>91</td>\n",
       "      <td>1.16</td>\n",
       "      <td>0</td>\n",
       "    </tr>\n",
       "  </tbody>\n",
       "</table>\n",
       "</div>"
      ],
      "text/plain": [
       "   gravity    ph  osmo  cond  urea  calc  target\n",
       "0    1.021  4.91   725  14.0   443  2.45       0\n",
       "1    1.017  5.74   577  20.0   296  4.49       0\n",
       "2    1.008  7.20   321  14.9   101  2.36       0\n",
       "3    1.011  5.51   408  12.6   224  2.15       0\n",
       "4    1.005  6.52   187   7.5    91  1.16       0"
      ]
     },
     "execution_count": 3,
     "metadata": {},
     "output_type": "execute_result"
    }
   ],
   "source": [
    "dataset.head()"
   ]
  },
  {
   "cell_type": "code",
   "execution_count": 4,
   "metadata": {},
   "outputs": [
    {
     "data": {
      "text/html": [
       "<div>\n",
       "<style scoped>\n",
       "    .dataframe tbody tr th:only-of-type {\n",
       "        vertical-align: middle;\n",
       "    }\n",
       "\n",
       "    .dataframe tbody tr th {\n",
       "        vertical-align: top;\n",
       "    }\n",
       "\n",
       "    .dataframe thead th {\n",
       "        text-align: right;\n",
       "    }\n",
       "</style>\n",
       "<table border=\"1\" class=\"dataframe\">\n",
       "  <thead>\n",
       "    <tr style=\"text-align: right;\">\n",
       "      <th></th>\n",
       "      <th>gravity</th>\n",
       "      <th>ph</th>\n",
       "      <th>osmo</th>\n",
       "      <th>cond</th>\n",
       "      <th>urea</th>\n",
       "      <th>calc</th>\n",
       "      <th>target</th>\n",
       "    </tr>\n",
       "  </thead>\n",
       "  <tbody>\n",
       "    <tr>\n",
       "      <th>count</th>\n",
       "      <td>79.000000</td>\n",
       "      <td>79.000000</td>\n",
       "      <td>79.000000</td>\n",
       "      <td>79.000000</td>\n",
       "      <td>79.000000</td>\n",
       "      <td>79.000000</td>\n",
       "      <td>79.000000</td>\n",
       "    </tr>\n",
       "    <tr>\n",
       "      <th>mean</th>\n",
       "      <td>1.018114</td>\n",
       "      <td>6.028481</td>\n",
       "      <td>612.848101</td>\n",
       "      <td>20.813924</td>\n",
       "      <td>266.405063</td>\n",
       "      <td>4.138987</td>\n",
       "      <td>0.430380</td>\n",
       "    </tr>\n",
       "    <tr>\n",
       "      <th>std</th>\n",
       "      <td>0.007239</td>\n",
       "      <td>0.724307</td>\n",
       "      <td>237.514755</td>\n",
       "      <td>7.938994</td>\n",
       "      <td>131.254550</td>\n",
       "      <td>3.260051</td>\n",
       "      <td>0.498293</td>\n",
       "    </tr>\n",
       "    <tr>\n",
       "      <th>min</th>\n",
       "      <td>1.005000</td>\n",
       "      <td>4.760000</td>\n",
       "      <td>187.000000</td>\n",
       "      <td>5.100000</td>\n",
       "      <td>10.000000</td>\n",
       "      <td>0.170000</td>\n",
       "      <td>0.000000</td>\n",
       "    </tr>\n",
       "    <tr>\n",
       "      <th>25%</th>\n",
       "      <td>1.012000</td>\n",
       "      <td>5.530000</td>\n",
       "      <td>413.000000</td>\n",
       "      <td>14.150000</td>\n",
       "      <td>160.000000</td>\n",
       "      <td>1.460000</td>\n",
       "      <td>0.000000</td>\n",
       "    </tr>\n",
       "    <tr>\n",
       "      <th>50%</th>\n",
       "      <td>1.018000</td>\n",
       "      <td>5.940000</td>\n",
       "      <td>594.000000</td>\n",
       "      <td>21.400000</td>\n",
       "      <td>260.000000</td>\n",
       "      <td>3.160000</td>\n",
       "      <td>0.000000</td>\n",
       "    </tr>\n",
       "    <tr>\n",
       "      <th>75%</th>\n",
       "      <td>1.023500</td>\n",
       "      <td>6.385000</td>\n",
       "      <td>792.000000</td>\n",
       "      <td>26.550000</td>\n",
       "      <td>372.000000</td>\n",
       "      <td>5.930000</td>\n",
       "      <td>1.000000</td>\n",
       "    </tr>\n",
       "    <tr>\n",
       "      <th>max</th>\n",
       "      <td>1.040000</td>\n",
       "      <td>7.940000</td>\n",
       "      <td>1236.000000</td>\n",
       "      <td>38.000000</td>\n",
       "      <td>620.000000</td>\n",
       "      <td>14.340000</td>\n",
       "      <td>1.000000</td>\n",
       "    </tr>\n",
       "  </tbody>\n",
       "</table>\n",
       "</div>"
      ],
      "text/plain": [
       "         gravity         ph         osmo       cond        urea       calc  \\\n",
       "count  79.000000  79.000000    79.000000  79.000000   79.000000  79.000000   \n",
       "mean    1.018114   6.028481   612.848101  20.813924  266.405063   4.138987   \n",
       "std     0.007239   0.724307   237.514755   7.938994  131.254550   3.260051   \n",
       "min     1.005000   4.760000   187.000000   5.100000   10.000000   0.170000   \n",
       "25%     1.012000   5.530000   413.000000  14.150000  160.000000   1.460000   \n",
       "50%     1.018000   5.940000   594.000000  21.400000  260.000000   3.160000   \n",
       "75%     1.023500   6.385000   792.000000  26.550000  372.000000   5.930000   \n",
       "max     1.040000   7.940000  1236.000000  38.000000  620.000000  14.340000   \n",
       "\n",
       "          target  \n",
       "count  79.000000  \n",
       "mean    0.430380  \n",
       "std     0.498293  \n",
       "min     0.000000  \n",
       "25%     0.000000  \n",
       "50%     0.000000  \n",
       "75%     1.000000  \n",
       "max     1.000000  "
      ]
     },
     "execution_count": 4,
     "metadata": {},
     "output_type": "execute_result"
    }
   ],
   "source": [
    "dataset.describe()"
   ]
  },
  {
   "cell_type": "code",
   "execution_count": 5,
   "metadata": {},
   "outputs": [
    {
     "data": {
      "text/plain": [
       "(79, 7)"
      ]
     },
     "execution_count": 5,
     "metadata": {},
     "output_type": "execute_result"
    }
   ],
   "source": [
    "dataset.shape"
   ]
  },
  {
   "cell_type": "code",
   "execution_count": 6,
   "metadata": {},
   "outputs": [
    {
     "data": {
      "text/plain": [
       "Index(['gravity', 'ph', 'osmo', 'cond', 'urea', 'calc', 'target'], dtype='object')"
      ]
     },
     "execution_count": 6,
     "metadata": {},
     "output_type": "execute_result"
    }
   ],
   "source": [
    "dataset.columns"
   ]
  },
  {
   "cell_type": "code",
   "execution_count": 7,
   "metadata": {},
   "outputs": [
    {
     "data": {
      "text/plain": [
       "0     False\n",
       "1     False\n",
       "2     False\n",
       "3     False\n",
       "4     False\n",
       "      ...  \n",
       "74    False\n",
       "75    False\n",
       "76    False\n",
       "77    False\n",
       "78    False\n",
       "Length: 79, dtype: bool"
      ]
     },
     "execution_count": 7,
     "metadata": {},
     "output_type": "execute_result"
    }
   ],
   "source": [
    "dataset.duplicated()"
   ]
  },
  {
   "cell_type": "code",
   "execution_count": 8,
   "metadata": {},
   "outputs": [
    {
     "data": {
      "text/plain": [
       "0"
      ]
     },
     "execution_count": 8,
     "metadata": {},
     "output_type": "execute_result"
    }
   ],
   "source": [
    "dataset.duplicated().sum()"
   ]
  },
  {
   "cell_type": "code",
   "execution_count": 9,
   "metadata": {},
   "outputs": [
    {
     "data": {
      "text/plain": [
       "gravity    0\n",
       "ph         0\n",
       "osmo       0\n",
       "cond       0\n",
       "urea       0\n",
       "calc       0\n",
       "target     0\n",
       "dtype: int64"
      ]
     },
     "execution_count": 9,
     "metadata": {},
     "output_type": "execute_result"
    }
   ],
   "source": [
    "dataset.isna().sum()"
   ]
  },
  {
   "cell_type": "code",
   "execution_count": 10,
   "metadata": {},
   "outputs": [
    {
     "data": {
      "text/plain": [
       "<AxesSubplot:xlabel='gravity'>"
      ]
     },
     "execution_count": 10,
     "metadata": {},
     "output_type": "execute_result"
    },
    {
     "data": {
      "image/png": "[encoded data removed]",
      "text/plain": [
       "<Figure size 432x288 with 1 Axes>"
      ]
     },
     "metadata": {
      "needs_background": "light"
     },
     "output_type": "display_data"
    }
   ],
   "source": [
    "sns.boxplot(data = dataset, x='gravity')"
   ]
  },
  {
   "cell_type": "code",
   "execution_count": 11,
   "metadata": {},
   "outputs": [
    {
     "data": {
      "text/plain": [
       "<AxesSubplot:xlabel='ph'>"
      ]
     },
     "execution_count": 11,
     "metadata": {},
     "output_type": "execute_result"
    },
    {
     "data": {
      "image/png": "[encoded data removed]",
      "text/plain": [
       "<Figure size 432x288 with 1 Axes>"
      ]
     },
     "metadata": {
      "needs_background": "light"
     },
     "output_type": "display_data"
    }
   ],
   "source": [
    "sns.boxplot(data = dataset, x='ph')"
   ]
  },
  {
   "cell_type": "code",
   "execution_count": 12,
   "metadata": {},
   "outputs": [
    {
     "data": {
      "text/plain": [
       "<AxesSubplot:xlabel='osmo'>"
      ]
     },
     "execution_count": 12,
     "metadata": {},
     "output_type": "execute_result"
    },
    {
     "data": {
      "image/png": "[encoded data removed]",
      "text/plain": [
       "<Figure size 432x288 with 1 Axes>"
      ]
     },
     "metadata": {
      "needs_background": "light"
     },
     "output_type": "display_data"
    }
   ],
   "source": [
    "sns.boxplot(data = dataset, x='osmo')"
   ]
  },
  {
   "cell_type": "code",
   "execution_count": 13,
   "metadata": {},
   "outputs": [
    {
     "data": {
      "text/plain": [
       "<AxesSubplot:xlabel='cond'>"
      ]
     },
     "execution_count": 13,
     "metadata": {},
     "output_type": "execute_result"
    },
    {
     "data": {
      "image/png": "[encoded data removed]",
      "text/plain": [
       "<Figure size 432x288 with 1 Axes>"
      ]
     },
     "metadata": {
      "needs_background": "light"
     },
     "output_type": "display_data"
    }
   ],
   "source": [
    "sns.boxplot(data = dataset, x='cond')"
   ]
  },
  {
   "cell_type": "code",
   "execution_count": 14,
   "metadata": {},
   "outputs": [
    {
     "data": {
      "text/plain": [
       "<AxesSubplot:xlabel='urea'>"
      ]
     },
     "execution_count": 14,
     "metadata": {},
     "output_type": "execute_result"
    },
    {
     "data": {
      "image/png": "[encoded data removed]",
      "text/plain": [
       "<Figure size 432x288 with 1 Axes>"
      ]
     },
     "metadata": {
      "needs_background": "light"
     },
     "output_type": "display_data"
    }
   ],
   "source": [
    "sns.boxplot(data = dataset, x='urea')"
   ]
  },
  {
   "cell_type": "code",
   "execution_count": 15,
   "metadata": {},
   "outputs": [
    {
     "data": {
      "text/plain": [
       "<AxesSubplot:xlabel='calc'>"
      ]
     },
     "execution_count": 15,
     "metadata": {},
     "output_type": "execute_result"
    },
    {
     "data": {
      "image/png": "[encoded data removed]",
      "text/plain": [
       "<Figure size 432x288 with 1 Axes>"
      ]
     },
     "metadata": {
      "needs_background": "light"
     },
     "output_type": "display_data"
    }
   ],
   "source": [
    "sns.boxplot(data = dataset, x='calc')"
   ]
  },
  {
   "cell_type": "code",
   "execution_count": 16,
   "metadata": {},
   "outputs": [],
   "source": [
    "import seaborn as sns"
   ]
  },
  {
   "cell_type": "code",
   "execution_count": 17,
   "metadata": {},
   "outputs": [
    {
     "data": {
      "text/plain": [
       "<AxesSubplot:>"
      ]
     },
     "execution_count": 17,
     "metadata": {},
     "output_type": "execute_result"
    },
    {
     "data": {
      "image/png": "[encoded data removed]",
      "text/plain": [
       "<Figure size 648x648 with 2 Axes>"
      ]
     },
     "metadata": {
      "needs_background": "light"
     },
     "output_type": "display_data"
    }
   ],
   "source": [
    "plt.figure(figsize=(9,9))\n",
    "sns.heatmap(dataset.corr())"
   ]
  },
  {
   "cell_type": "code",
   "execution_count": 18,
   "metadata": {},
   "outputs": [],
   "source": [
    "X = dataset.iloc[: , :-1].values\n",
    "y = dataset.iloc[: , -1].values"
   ]
  },
  {
   "cell_type": "code",
   "execution_count": 19,
   "metadata": {},
   "outputs": [],
   "source": [
    "from sklearn.model_selection import train_test_split\n",
    "x_train,x_test,y_train,y_test = train_test_split(X, y, test_size=0.25, random_state=42)"
   ]
  },
  {
   "cell_type": "code",
   "execution_count": 20,
   "metadata": {},
   "outputs": [
    {
     "data": {
      "text/plain": [
       "LogisticRegression(random_state=0)"
      ]
     },
     "execution_count": 20,
     "metadata": {},
     "output_type": "execute_result"
    }
   ],
   "source": [
    "from sklearn.linear_model import LogisticRegression\n",
    "log_classifier = LogisticRegression(random_state=0)\n",
    "log_classifier.fit(x_train, y_train)"
   ]
  },
  {
   "cell_type": "code",
   "execution_count": 21,
   "metadata": {},
   "outputs": [],
   "source": [
    "log_y_pred = log_classifier.predict(x_test)"
   ]
  },
  {
   "cell_type": "code",
   "execution_count": 22,
   "metadata": {},
   "outputs": [
    {
     "data": {
      "text/plain": [
       "<AxesSubplot:>"
      ]
     },
     "execution_count": 22,
     "metadata": {},
     "output_type": "execute_result"
    },
    {
     "data": {
      "image/png": "[encoded data removed]",
      "text/plain": [
       "<Figure size 432x288 with 2 Axes>"
      ]
     },
     "metadata": {
      "needs_background": "light"
     },
     "output_type": "display_data"
    }
   ],
   "source": [
    "from sklearn.metrics import confusion_matrix\n",
    "log_cm = confusion_matrix(y_test, log_y_pred)\n",
    "sns.heatmap(log_cm, annot = True)"
   ]
  },
  {
   "cell_type": "code",
   "execution_count": 23,
   "metadata": {},
   "outputs": [
    {
     "name": "stdout",
     "output_type": "stream",
     "text": [
      "0.7\n",
      "0.625\n"
     ]
    }
   ],
   "source": [
    "from sklearn.metrics import accuracy_score, precision_score\n",
    "print(accuracy_score(y_test,log_y_pred))\n",
    "print(precision_score(y_test,log_y_pred))"
   ]
  },
  {
   "cell_type": "code",
   "execution_count": 24,
   "metadata": {},
   "outputs": [
    {
     "data": {
      "text/plain": [
       "KNeighborsClassifier(n_neighbors=21)"
      ]
     },
     "execution_count": 24,
     "metadata": {},
     "output_type": "execute_result"
    }
   ],
   "source": [
    "from sklearn.neighbors import KNeighborsClassifier\n",
    "knn_classifier = KNeighborsClassifier(n_neighbors=21,metric='minkowski')\n",
    "knn_classifier.fit(x_train, y_train)"
   ]
  },
  {
   "cell_type": "code",
   "execution_count": 25,
   "metadata": {},
   "outputs": [],
   "source": [
    "knn_y_pred = knn_classifier.predict(x_test)"
   ]
  },
  {
   "cell_type": "code",
   "execution_count": 26,
   "metadata": {},
   "outputs": [
    {
     "data": {
      "text/plain": [
       "<AxesSubplot:>"
      ]
     },
     "execution_count": 26,
     "metadata": {},
     "output_type": "execute_result"
    },
    {
     "data": {
      "image/png": "[encoded data removed]",
      "text/plain": [
       "<Figure size 432x288 with 2 Axes>"
      ]
     },
     "metadata": {
      "needs_background": "light"
     },
     "output_type": "display_data"
    }
   ],
   "source": [
    "from sklearn.metrics import confusion_matrix\n",
    "knn_cm = confusion_matrix(y_test, knn_y_pred)\n",
    "sns.heatmap(knn_cm, annot = True)"
   ]
  },
  {
   "cell_type": "code",
   "execution_count": 27,
   "metadata": {},
   "outputs": [
    {
     "name": "stdout",
     "output_type": "stream",
     "text": [
      "0.75\n",
      "0.7142857142857143\n"
     ]
    }
   ],
   "source": [
    "from sklearn.metrics import accuracy_score, precision_score\n",
    "print(accuracy_score(y_test,knn_y_pred))\n",
    "print(precision_score(y_test,knn_y_pred))"
   ]
  },
  {
   "cell_type": "code",
   "execution_count": 28,
   "metadata": {},
   "outputs": [
    {
     "data": {
      "text/plain": [
       "SVC(random_state=0)"
      ]
     },
     "execution_count": 28,
     "metadata": {},
     "output_type": "execute_result"
    }
   ],
   "source": [
    "from sklearn.svm import SVC\n",
    "svm_classifier = SVC(kernel = 'rbf',random_state=0)\n",
    "svm_classifier.fit(x_train, y_train)"
   ]
  },
  {
   "cell_type": "code",
   "execution_count": 29,
   "metadata": {},
   "outputs": [],
   "source": [
    "svm_y_pred = svm_classifier.predict(x_test)"
   ]
  },
  {
   "cell_type": "code",
   "execution_count": 30,
   "metadata": {},
   "outputs": [
    {
     "data": {
      "text/plain": [
       "<AxesSubplot:>"
      ]
     },
     "execution_count": 30,
     "metadata": {},
     "output_type": "execute_result"
    },
    {
     "data": {
      "image/png": "[encoded data removed]",
      "text/plain": [
       "<Figure size 432x288 with 2 Axes>"
      ]
     },
     "metadata": {
      "needs_background": "light"
     },
     "output_type": "display_data"
    }
   ],
   "source": [
    "from sklearn.metrics import confusion_matrix\n",
    "svm_cm = confusion_matrix(y_test, svm_y_pred)\n",
    "sns.heatmap(svm_cm, annot = True)"
   ]
  },
  {
   "cell_type": "code",
   "execution_count": 31,
   "metadata": {},
   "outputs": [
    {
     "name": "stdout",
     "output_type": "stream",
     "text": [
      "0.65\n",
      "1.0\n"
     ]
    }
   ],
   "source": [
    "from sklearn.metrics import accuracy_score, precision_score\n",
    "print(accuracy_score(y_test,svm_y_pred))\n",
    "print(precision_score(y_test,svm_y_pred))"
   ]
  },
  {
   "cell_type": "code",
   "execution_count": 32,
   "metadata": {},
   "outputs": [],
   "source": [
    "import keras\n",
    "from keras.models import Sequential\n",
    "from keras.layers import Dense, Dropout"
   ]
  },
  {
   "cell_type": "code",
   "execution_count": 33,
   "metadata": {},
   "outputs": [],
   "source": [
    "# Initialising the ANN\n",
    "classifier=Sequential()\n",
    "\n",
    "# Adding the input layer and the first hidden layer\n",
    "classifier.add(Dense(units= 400, activation='relu', input_dim=6)) \n",
    "classifier.add(Dropout (rate=0.1))\n",
    "\n",
    "# Adding Second hidden layer\n",
    "classifier.add(Dense (units = 400, activation='relu'))\n",
    "classifier.add(Dropout (rate=0.1))\n",
    "\n",
    "# Output layer\n",
    "classifier.add(Dense (units = 1, activation='sigmoid'))"
   ]
  },
  {
   "cell_type": "code",
   "execution_count": 34,
   "metadata": {},
   "outputs": [],
   "source": [
    "classifier.compile(optimizer='adam', loss='binary_crossentropy', metrics=['accuracy'])"
   ]
  },
  {
   "cell_type": "code",
   "execution_count": 35,
   "metadata": {},
   "outputs": [
    {
     "name": "stdout",
     "output_type": "stream",
     "text": [
      "Epoch 1/100\n",
      "2/2 [==============================] - 2s 19ms/step - loss: 19.7547 - accuracy: 0.5254\n",
      "Epoch 2/100\n",
      "2/2 [==============================] - 0s 10ms/step - loss: 26.5862 - accuracy: 0.4576\n",
      "Epoch 3/100\n",
      "2/2 [==============================] - 0s 18ms/step - loss: 14.7997 - accuracy: 0.5593\n",
      "Epoch 4/100\n",
      "2/2 [==============================] - 0s 12ms/step - loss: 11.2000 - accuracy: 0.5932\n",
      "Epoch 5/100\n",
      "2/2 [==============================] - 0s 14ms/step - loss: 9.5047 - accuracy: 0.4068\n",
      "Epoch 6/100\n",
      "2/2 [==============================] - 0s 14ms/step - loss: 7.7539 - accuracy: 0.5085\n",
      "Epoch 7/100\n",
      "2/2 [==============================] - 0s 11ms/step - loss: 5.2145 - accuracy: 0.5424\n",
      "Epoch 8/100\n",
      "2/2 [==============================] - 0s 16ms/step - loss: 7.3017 - accuracy: 0.5254\n",
      "Epoch 9/100\n",
      "2/2 [==============================] - 0s 13ms/step - loss: 6.5131 - accuracy: 0.4746\n",
      "Epoch 10/100\n",
      "2/2 [==============================] - 0s 13ms/step - loss: 5.6866 - accuracy: 0.4746\n",
      "Epoch 11/100\n",
      "2/2 [==============================] - 0s 15ms/step - loss: 4.4444 - accuracy: 0.5424\n",
      "Epoch 12/100\n",
      "2/2 [==============================] - 0s 18ms/step - loss: 3.5841 - accuracy: 0.5763\n",
      "Epoch 13/100\n",
      "2/2 [==============================] - 0s 14ms/step - loss: 4.4432 - accuracy: 0.5932\n",
      "Epoch 14/100\n",
      "2/2 [==============================] - 0s 13ms/step - loss: 2.8214 - accuracy: 0.6271\n",
      "Epoch 15/100\n",
      "2/2 [==============================] - 0s 13ms/step - loss: 4.9035 - accuracy: 0.4915\n",
      "Epoch 16/100\n",
      "2/2 [==============================] - 0s 12ms/step - loss: 5.0222 - accuracy: 0.5085\n",
      "Epoch 17/100\n",
      "2/2 [==============================] - 0s 13ms/step - loss: 4.8512 - accuracy: 0.5085\n",
      "Epoch 18/100\n",
      "2/2 [==============================] - 0s 14ms/step - loss: 3.4992 - accuracy: 0.5424\n",
      "Epoch 19/100\n",
      "2/2 [==============================] - 0s 15ms/step - loss: 3.7873 - accuracy: 0.5763\n",
      "Epoch 20/100\n",
      "2/2 [==============================] - 0s 13ms/step - loss: 4.5266 - accuracy: 0.5254\n",
      "Epoch 21/100\n",
      "2/2 [==============================] - 0s 13ms/step - loss: 2.6524 - accuracy: 0.5424\n",
      "Epoch 22/100\n",
      "2/2 [==============================] - 0s 17ms/step - loss: 3.3231 - accuracy: 0.5085\n",
      "Epoch 23/100\n",
      "2/2 [==============================] - 0s 16ms/step - loss: 3.5246 - accuracy: 0.5424\n",
      "Epoch 24/100\n",
      "2/2 [==============================] - 0s 15ms/step - loss: 5.7100 - accuracy: 0.5085\n",
      "Epoch 25/100\n",
      "2/2 [==============================] - 0s 12ms/step - loss: 4.0001 - accuracy: 0.5254\n",
      "Epoch 26/100\n",
      "2/2 [==============================] - 0s 17ms/step - loss: 3.7039 - accuracy: 0.5254\n",
      "Epoch 27/100\n",
      "2/2 [==============================] - 0s 18ms/step - loss: 4.0380 - accuracy: 0.5254\n",
      "Epoch 28/100\n",
      "2/2 [==============================] - 0s 17ms/step - loss: 4.3368 - accuracy: 0.5254\n",
      "Epoch 29/100\n",
      "2/2 [==============================] - 0s 18ms/step - loss: 3.6513 - accuracy: 0.4746\n",
      "Epoch 30/100\n",
      "2/2 [==============================] - 0s 21ms/step - loss: 2.3614 - accuracy: 0.6102\n",
      "Epoch 31/100\n",
      "2/2 [==============================] - 0s 16ms/step - loss: 3.2250 - accuracy: 0.4915\n",
      "Epoch 32/100\n",
      "2/2 [==============================] - 0s 19ms/step - loss: 3.0619 - accuracy: 0.5424\n",
      "Epoch 33/100\n",
      "2/2 [==============================] - 0s 13ms/step - loss: 4.1924 - accuracy: 0.5424\n",
      "Epoch 34/100\n",
      "2/2 [==============================] - 0s 13ms/step - loss: 3.5302 - accuracy: 0.5763\n",
      "Epoch 35/100\n",
      "2/2 [==============================] - 0s 14ms/step - loss: 3.7834 - accuracy: 0.5424\n",
      "Epoch 36/100\n",
      "2/2 [==============================] - 0s 14ms/step - loss: 2.6147 - accuracy: 0.5763\n",
      "Epoch 37/100\n",
      "2/2 [==============================] - 0s 13ms/step - loss: 2.5156 - accuracy: 0.5932\n",
      "Epoch 38/100\n",
      "2/2 [==============================] - 0s 22ms/step - loss: 4.0430 - accuracy: 0.5254\n",
      "Epoch 39/100\n",
      "2/2 [==============================] - 0s 19ms/step - loss: 2.8186 - accuracy: 0.6271\n",
      "Epoch 40/100\n",
      "2/2 [==============================] - 0s 15ms/step - loss: 3.3717 - accuracy: 0.6102\n",
      "Epoch 41/100\n",
      "2/2 [==============================] - 0s 15ms/step - loss: 2.3730 - accuracy: 0.4915\n",
      "Epoch 42/100\n",
      "2/2 [==============================] - 0s 15ms/step - loss: 2.3755 - accuracy: 0.5254\n",
      "Epoch 43/100\n",
      "2/2 [==============================] - 0s 15ms/step - loss: 2.7265 - accuracy: 0.5593\n",
      "Epoch 44/100\n",
      "2/2 [==============================] - 0s 13ms/step - loss: 2.7008 - accuracy: 0.5593\n",
      "Epoch 45/100\n",
      "2/2 [==============================] - 0s 15ms/step - loss: 2.4779 - accuracy: 0.5424\n",
      "Epoch 46/100\n",
      "2/2 [==============================] - 0s 14ms/step - loss: 3.5013 - accuracy: 0.4746\n",
      "Epoch 47/100\n",
      "2/2 [==============================] - 0s 12ms/step - loss: 1.9335 - accuracy: 0.5424\n",
      "Epoch 48/100\n",
      "2/2 [==============================] - 0s 15ms/step - loss: 2.8178 - accuracy: 0.6271\n",
      "Epoch 49/100\n",
      "2/2 [==============================] - 0s 13ms/step - loss: 2.0228 - accuracy: 0.5932\n",
      "Epoch 50/100\n",
      "2/2 [==============================] - 0s 16ms/step - loss: 2.5397 - accuracy: 0.5085\n",
      "Epoch 51/100\n",
      "2/2 [==============================] - 0s 14ms/step - loss: 1.8413 - accuracy: 0.6271\n",
      "Epoch 52/100\n",
      "2/2 [==============================] - 0s 15ms/step - loss: 1.5106 - accuracy: 0.6441\n",
      "Epoch 53/100\n",
      "2/2 [==============================] - 0s 13ms/step - loss: 2.2130 - accuracy: 0.4915\n",
      "Epoch 54/100\n",
      "2/2 [==============================] - 0s 16ms/step - loss: 1.5450 - accuracy: 0.5424\n",
      "Epoch 55/100\n",
      "2/2 [==============================] - 0s 13ms/step - loss: 1.8752 - accuracy: 0.6441\n",
      "Epoch 56/100\n",
      "2/2 [==============================] - 0s 16ms/step - loss: 1.9739 - accuracy: 0.5763\n",
      "Epoch 57/100\n",
      "2/2 [==============================] - 0s 28ms/step - loss: 1.7962 - accuracy: 0.5593\n",
      "Epoch 58/100\n",
      "2/2 [==============================] - 0s 15ms/step - loss: 1.1016 - accuracy: 0.5763\n",
      "Epoch 59/100\n",
      "2/2 [==============================] - 0s 11ms/step - loss: 1.7808 - accuracy: 0.4746\n",
      "Epoch 60/100\n",
      "2/2 [==============================] - 0s 14ms/step - loss: 2.1222 - accuracy: 0.5254\n",
      "Epoch 61/100\n",
      "2/2 [==============================] - 0s 13ms/step - loss: 1.1025 - accuracy: 0.7797\n",
      "Epoch 62/100\n",
      "2/2 [==============================] - 0s 15ms/step - loss: 1.3302 - accuracy: 0.5085\n",
      "Epoch 63/100\n",
      "2/2 [==============================] - 0s 14ms/step - loss: 1.3033 - accuracy: 0.5932\n",
      "Epoch 64/100\n",
      "2/2 [==============================] - 0s 14ms/step - loss: 1.4148 - accuracy: 0.5593\n",
      "Epoch 65/100\n",
      "2/2 [==============================] - 0s 12ms/step - loss: 1.3685 - accuracy: 0.5254\n",
      "Epoch 66/100\n",
      "2/2 [==============================] - 0s 12ms/step - loss: 1.4608 - accuracy: 0.6441\n",
      "Epoch 67/100\n",
      "2/2 [==============================] - 0s 14ms/step - loss: 1.5035 - accuracy: 0.5932\n",
      "Epoch 68/100\n",
      "2/2 [==============================] - 0s 12ms/step - loss: 1.1841 - accuracy: 0.6271\n",
      "Epoch 69/100\n",
      "2/2 [==============================] - 0s 12ms/step - loss: 1.6308 - accuracy: 0.5254\n",
      "Epoch 70/100\n",
      "2/2 [==============================] - 0s 14ms/step - loss: 1.3380 - accuracy: 0.5424\n",
      "Epoch 71/100\n",
      "2/2 [==============================] - 0s 9ms/step - loss: 1.2215 - accuracy: 0.5763\n",
      "Epoch 72/100\n",
      "2/2 [==============================] - 0s 10ms/step - loss: 1.5797 - accuracy: 0.5424\n",
      "Epoch 73/100\n",
      "2/2 [==============================] - 0s 9ms/step - loss: 1.5197 - accuracy: 0.5763\n",
      "Epoch 74/100\n",
      "2/2 [==============================] - 0s 9ms/step - loss: 0.9378 - accuracy: 0.5763\n",
      "Epoch 75/100\n",
      "2/2 [==============================] - 0s 10ms/step - loss: 0.9865 - accuracy: 0.6271\n",
      "Epoch 76/100\n",
      "2/2 [==============================] - 0s 12ms/step - loss: 1.3011 - accuracy: 0.6102\n",
      "Epoch 77/100\n",
      "2/2 [==============================] - 0s 11ms/step - loss: 1.1886 - accuracy: 0.5593\n",
      "Epoch 78/100\n",
      "2/2 [==============================] - 0s 11ms/step - loss: 0.9527 - accuracy: 0.6102\n",
      "Epoch 79/100\n",
      "2/2 [==============================] - 0s 11ms/step - loss: 1.1959 - accuracy: 0.5763\n",
      "Epoch 80/100\n",
      "2/2 [==============================] - 0s 13ms/step - loss: 1.3399 - accuracy: 0.6102\n",
      "Epoch 81/100\n",
      "2/2 [==============================] - 0s 10ms/step - loss: 1.2998 - accuracy: 0.5085\n",
      "Epoch 82/100\n",
      "2/2 [==============================] - 0s 11ms/step - loss: 1.6057 - accuracy: 0.5763\n",
      "Epoch 83/100\n"
     ]
    },
    {
     "name": "stdout",
     "output_type": "stream",
     "text": [
      "2/2 [==============================] - 0s 11ms/step - loss: 0.8198 - accuracy: 0.6610\n",
      "Epoch 84/100\n",
      "2/2 [==============================] - 0s 13ms/step - loss: 1.2584 - accuracy: 0.6610\n",
      "Epoch 85/100\n",
      "2/2 [==============================] - 0s 12ms/step - loss: 1.4518 - accuracy: 0.5254\n",
      "Epoch 86/100\n",
      "2/2 [==============================] - 0s 11ms/step - loss: 0.8902 - accuracy: 0.6271\n",
      "Epoch 87/100\n",
      "2/2 [==============================] - 0s 12ms/step - loss: 1.1323 - accuracy: 0.5593\n",
      "Epoch 88/100\n",
      "2/2 [==============================] - 0s 13ms/step - loss: 1.0600 - accuracy: 0.5763\n",
      "Epoch 89/100\n",
      "2/2 [==============================] - 0s 12ms/step - loss: 1.6712 - accuracy: 0.4407\n",
      "Epoch 90/100\n",
      "2/2 [==============================] - 0s 10ms/step - loss: 1.2589 - accuracy: 0.5763\n",
      "Epoch 91/100\n",
      "2/2 [==============================] - 0s 12ms/step - loss: 1.0471 - accuracy: 0.6441\n",
      "Epoch 92/100\n",
      "2/2 [==============================] - 0s 13ms/step - loss: 1.2469 - accuracy: 0.6102\n",
      "Epoch 93/100\n",
      "2/2 [==============================] - 0s 11ms/step - loss: 1.5302 - accuracy: 0.4915\n",
      "Epoch 94/100\n",
      "2/2 [==============================] - 0s 12ms/step - loss: 0.9901 - accuracy: 0.6102\n",
      "Epoch 95/100\n",
      "2/2 [==============================] - 0s 9ms/step - loss: 0.6943 - accuracy: 0.6271\n",
      "Epoch 96/100\n",
      "2/2 [==============================] - 0s 12ms/step - loss: 0.9339 - accuracy: 0.6610\n",
      "Epoch 97/100\n",
      "2/2 [==============================] - 0s 10ms/step - loss: 0.8856 - accuracy: 0.6610\n",
      "Epoch 98/100\n",
      "2/2 [==============================] - 0s 10ms/step - loss: 1.2509 - accuracy: 0.5932\n",
      "Epoch 99/100\n",
      "2/2 [==============================] - 0s 12ms/step - loss: 0.8069 - accuracy: 0.5763\n",
      "Epoch 100/100\n",
      "2/2 [==============================] - 0s 10ms/step - loss: 0.9296 - accuracy: 0.6441\n"
     ]
    },
    {
     "data": {
      "text/plain": [
       "<keras.callbacks.History at 0x1d2ad5b0c48>"
      ]
     },
     "execution_count": 35,
     "metadata": {},
     "output_type": "execute_result"
    }
   ],
   "source": [
    "classifier.fit(x_train, y_train, batch_size=32, epochs=100)"
   ]
  },
  {
   "cell_type": "code",
   "execution_count": 36,
   "metadata": {},
   "outputs": [
    {
     "name": "stdout",
     "output_type": "stream",
     "text": [
      "1/1 [==============================] - 0s 152ms/step\n"
     ]
    }
   ],
   "source": [
    "ann_y_pred = classifier.predict(x_test)"
   ]
  },
  {
   "cell_type": "code",
   "execution_count": 37,
   "metadata": {},
   "outputs": [
    {
     "data": {
      "text/plain": [
       "array([0.77068806], dtype=float32)"
      ]
     },
     "execution_count": 37,
     "metadata": {},
     "output_type": "execute_result"
    }
   ],
   "source": [
    "ann_y_pred[0]"
   ]
  },
  {
   "cell_type": "code",
   "execution_count": 38,
   "metadata": {},
   "outputs": [],
   "source": [
    "ann_y_pred=ann_y_pred>=0.5"
   ]
  },
  {
   "cell_type": "code",
   "execution_count": 39,
   "metadata": {},
   "outputs": [
    {
     "data": {
      "text/plain": [
       "<AxesSubplot:>"
      ]
     },
     "execution_count": 39,
     "metadata": {},
     "output_type": "execute_result"
    },
    {
     "data": {
      "image/png": "[encoded data removed]",
      "text/plain": [
       "<Figure size 432x288 with 2 Axes>"
      ]
     },
     "metadata": {
      "needs_background": "light"
     },
     "output_type": "display_data"
    }
   ],
   "source": [
    "from sklearn.metrics import confusion_matrix\n",
    "ann_cm = confusion_matrix(y_test, ann_y_pred)\n",
    "sns.heatmap(ann_cm, annot = True)"
   ]
  },
  {
   "cell_type": "code",
   "execution_count": 40,
   "metadata": {},
   "outputs": [
    {
     "name": "stdout",
     "output_type": "stream",
     "text": [
      "0.5\n",
      "0.4375\n"
     ]
    }
   ],
   "source": [
    "from sklearn.metrics import accuracy_score, precision_score\n",
    "print(accuracy_score(y_test,ann_y_pred))\n",
    "print(precision_score(y_test,ann_y_pred))"
   ]
  },
  {
   "cell_type": "code",
   "execution_count": 45,
   "metadata": {},
   "outputs": [],
   "source": [
    "import pickle\n",
    "pickle.dump(knn_classifier,open('Urinal kidney disease.pkl', 'wb'))"
   ]
  },
  {
   "cell_type": "code",
   "execution_count": null,
   "metadata": {},
   "outputs": [],
   "source": []
  }
 ],
 "metadata": {
  "kernelspec": {
   "display_name": "Python 3",
   "language": "python",
   "name": "python3"
  },
  "language_info": {
   "codemirror_mode": {
    "name": "ipython",
    "version": 3
   },
   "file_extension": ".py",
   "mimetype": "text/x-python",
   "name": "python",
   "nbconvert_exporter": "python",
   "pygments_lexer": "ipython3",
   "version": "3.7.8"
  }
 },
 "nbformat": 4,
 "nbformat_minor": 5
}
